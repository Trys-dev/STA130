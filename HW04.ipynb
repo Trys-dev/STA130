{
 "cells": [
  {
   "cell_type": "markdown",
   "id": "b795e3e2",
   "metadata": {},
   "source": [
    "Chatbot past session history: https://chatgpt.com/share/66ff668c-e554-8013-bdf3-15d072f89264"
   ]
  },
  {
   "cell_type": "markdown",
   "id": "044a2ef0",
   "metadata": {},
   "source": [
    "Question 1\n",
    "The \"Pre-lecture\" video (above) mentioned the \"standard error of the mean\" as being the \"standard deviation\" of the distribution bootstrapped means. What is the difference between the \"standard error of the mean\" and the \"standard deviation\" of the original data? What distinct ideas do each of these capture? Explain this concisely in your own words."
   ]
  },
  {
   "cell_type": "markdown",
   "id": "e97bbd64",
   "metadata": {},
   "source": [
    "Basically in short, according to the chatbot, the standard deviation of a dataset measures how much individual data points vary from the mean of that dataset. In my own words, it captures the overall spread or variability within the entire set of values. The standard error of the mean, on the other hand, quantifies the precision with which the sample mean estimates the true population mean. It indicates how much the sample mean is expected to fluctuate if you took different samples from the same population. "
   ]
  },
  {
   "cell_type": "markdown",
   "id": "4089d02e",
   "metadata": {},
   "source": [
    "Question 2\n",
    "The \"Pre-lecture\" video (above) suggested that the \"standard error of the mean\" could be used to create a confidence interval, but didn't describe exactly how to do this. How can we use the \"standard error of the mean\" to create a 95% confidence interval which \"covers 95% of the bootstrapped sample means\"? Explain this concisely in your own words."
   ]
  },
  {
   "cell_type": "markdown",
   "id": "9eda0a58",
   "metadata": {},
   "source": [
    "To create a 95% confidence interval using the \"standard error of the mean\",we first calculate the sample mean and standard error. Then, multiply the standard error by 1.96, which is the critical value for the 95% confidence interval (e.g. 90% critical value = 1.645) to get the margin of error. Add and subtract this margin from the sample mean to form the interval. This process estimates where 95% of sample means would fall if we repeatedly sampled from the population. For bootstrapped means, we can either use this method or directly calculate the interval by taking the middle 95% of the bootstrapped sample means."
   ]
  },
  {
   "cell_type": "markdown",
   "id": "39969404",
   "metadata": {},
   "source": [
    "Question 3\n",
    "Creating the \"sample mean plus and minus about 2 times the standard error\" confidence interval addressed in the previous problem should indeed cover approximately 95% of the bootstrapped sample means. Alternatively, how do we create a 95% bootstrapped confidence interval using the bootstrapped means (without using their standard deviation to estimate the standard error of the mean)? Explain this concisely in your own words."
   ]
  },
  {
   "cell_type": "markdown",
   "id": "a3dcfd40",
   "metadata": {},
   "source": [
    "In particular, to create a 95% bootstrapped confidence interval without using the standard error, we will be using the percentile method. First, we generate many bootstrap samples by resampling the original data with replacement. Then, calculate the mean for each sample to form a distribution of bootstrapped means. Next, sort these means and identify the values at the 2.5th and 97.5th percentiles. The interval between these percentiles gives the 95% confidence interval, capturing the middle 95% of the bootstrapped means based on the resampled data."
   ]
  },
  {
   "cell_type": "markdown",
   "id": "9b8bb5d3",
   "metadata": {},
   "source": [
    "Question 4 \n",
    "The \"Pre-lecture\" video (above) mentioned that bootstrap confidence intervals could apply to other statistics of the sample, such as the \"median\". Work with a ChatBot to create code to produce a 95% bootstrap confidence interval for a population mean based on a sample that you have and comment the code to demonstrate how the code can be changed to produce a 95% bootstrap confidence interval for different population parameter (other than the population mean, such as the population median)."
   ]
  },
  {
   "cell_type": "code",
   "execution_count": 1,
   "id": "c1b6425c",
   "metadata": {},
   "outputs": [
    {
     "name": "stdout",
     "output_type": "stream",
     "text": [
      "95% Bootstrap Confidence Interval for the Mean: (3.6, 7.202499999999998)\n",
      "95% Bootstrap Confidence Interval for the Median: (3.0, 8.0)\n"
     ]
    }
   ],
   "source": [
    "import numpy as np\n",
    "\n",
    "# Function to generate bootstrap samples and calculate a confidence interval\n",
    "def bootstrap_confidence_interval(data, statistic_fn, num_samples=1000, ci=95):\n",
    "    \"\"\"\n",
    "    This function computes a bootstrap confidence interval for a given statistic.\n",
    "    \n",
    "    Parameters:\n",
    "    - data: the original dataset (numpy array or list)\n",
    "    - statistic_fn: a function to compute the statistic (e.g., np.mean, np.median)\n",
    "    - num_samples: number of bootstrap samples to generate (default = 1000)\n",
    "    - ci: confidence level for the interval (default = 95)\n",
    "    \n",
    "    Returns:\n",
    "    - Lower and upper bounds of the confidence interval\n",
    "    \"\"\"\n",
    "    # Generate bootstrap samples and compute the statistic for each sample\n",
    "    bootstrap_samples = np.random.choice(data, size=(num_samples, len(data)), replace=True)\n",
    "    bootstrap_statistics = np.apply_along_axis(statistic_fn, axis=1, arr=bootstrap_samples)\n",
    "    \n",
    "    # Compute percentiles for the confidence interval\n",
    "    lower_bound = np.percentile(bootstrap_statistics, (100 - ci) / 2)\n",
    "    upper_bound = np.percentile(bootstrap_statistics, 100 - (100 - ci) / 2)\n",
    "    \n",
    "    return lower_bound, upper_bound\n",
    "\n",
    "# Sample data (replace with your own data)\n",
    "data = np.array([3, 6, 9, 2, 5, 8, 7, 4, 10, 1])\n",
    "\n",
    "# Produce a 95% bootstrap confidence interval for the population mean\n",
    "ci_mean = bootstrap_confidence_interval(data, np.mean)\n",
    "print(f\"95% Bootstrap Confidence Interval for the Mean: {ci_mean}\")\n",
    "\n",
    "# To compute a 95% bootstrap confidence interval for a different statistic, e.g., the median:\n",
    "ci_median = bootstrap_confidence_interval(data, np.median)\n",
    "print(f\"95% Bootstrap Confidence Interval for the Median: {ci_median}\")\n",
    "\n"
   ]
  },
  {
   "cell_type": "markdown",
   "id": "79eb7326",
   "metadata": {},
   "source": [
    "[bootstrap_confidence_interval function] baiscally This function takes the original data, a statistic function (like [np.mean] for the mean or [np.median] for the median), and the number of bootstrap samples you want to generate. It also accepts the confidence level.\n",
    "\n",
    "Generating Bootstrap Samples: The [np.random.choice] function generates bootstrap samples by resampling from the original data with replacement.\n",
    "\n",
    "Calculating the Statistic: For each bootstrap sample, the statistic (mean or median) is computed using [np.apply_along_axis].\n",
    "\n",
    "Confidence Interval: The 95% confidence interval is obtained by finding the 2.5th and 97.5th percentiles of the bootstrap statistics.\n",
    "\n",
    "To change the statistics, we calculate the median instead of the mean, simply pass np.median as the [statistic_fn] in the function call. For other parameters, like the standard deviation, use [np.std]. The code is flexible and works for any statistic you can compute on the data."
   ]
  },
  {
   "cell_type": "markdown",
   "id": "fc1286e5",
   "metadata": {},
   "source": [
    "Chatbot past session history: https://chatgpt.com/share/66ff668c-e554-8013-bdf3-15d072f89264"
   ]
  },
  {
   "cell_type": "markdown",
   "id": "b7cb0ebf",
   "metadata": {},
   "source": [
    "Question 5\n",
    "The previous question addresses making a confidence interval for a population parameter based on a sample statistic. Why do we need to distinguish between the role of the popualation parameter and the sample sample statistic when it comes to confidence intervals? Explain this concisely in your own words."
   ]
  },
  {
   "cell_type": "markdown",
   "id": "c026d560",
   "metadata": {},
   "source": [
    "In particular, the reason we differentiate between the population parameter and the sample statistic in confidence intervals is due to the fact that the population parameter represents the actual, undisclosed value we are attempting to measure (such as population mean or median), whereas the sample statistic is a computed value from our data (such as sample mean or sample median) utilized to form that measurement. Confidence intervals provide insight into the potential range for the population parameter, as determined by the sample statistic. This differentiation is important because the sample statistic can vary, whereas the population parameter remains constant but is not known."
   ]
  },
  {
   "cell_type": "markdown",
   "id": "ae904b41",
   "metadata": {},
   "source": [
    "Question 6\n",
    "Provide written answers explaining the answers to the following questions in an informal manner of a conversation with a friend with little experience with statistics.\n",
    "1. What is the process of bootstrapping?\n",
    "2. What is the main purpose of bootstrapping?\n",
    "3. If you had a (hypothesized) guess about what the average of a population was, and you had a sample of size n from that population, how could you use bootstrapping to assess whether or not your (hypothesized) guess might be plausible?"
   ]
  },
  {
   "cell_type": "markdown",
   "id": "66426e96",
   "metadata": {},
   "source": [
    "1. The process of bootstrapping is basically set up a bootstrap dataset, which repeatdly sample a random value of the data with replacement(can reselect the same value more than once), then we calculate the mean value of that dataset. Following that, we keep track of the previous calculations of the (mean) value. We repeat the previous method for more than a dozen times, until the mean value is more than enough to form a histogram for standard mean.\n",
    "2. The main purpose of bootstrapping is to calculate the standard error and confidence interval while save time and resources instead rather than conducting an experiment multiple times, which cost a lot various resources.\n",
    "3. To evaluate whether the hypothesized population mean is plausible using bootstrapping, first, we have to generate multiple bootstrap samples datasets from the data, then calculate the mean for each sample to form a distribution of bootstrap means. Next, construct a confidence interval (such as a 95% interval) from this distribution. Finally, check whether your hypothesized mean falls within this interval. If it does, the hypothesis is plausible; if it falls outside, the hypothesis may be less likely."
   ]
  },
  {
   "cell_type": "markdown",
   "id": "a9a99a4e",
   "metadata": {},
   "source": [
    "Question 7\n",
    "The \"Pre-lecture\" video (above) introduced hypothesis testing by saying that \"the confidence interval covers zero, so we cannot reject the hypothesis that the drug is [on average] not doing anything\". This conclusion could be referred to as \"failing to reject the null hypothesis\", where the term \"null\" refers to the concept of \"no effect [on average]\". Why does a confidence interval overlapping zero \"fail to reject the null hypothesis\" when the observed sample mean statistic itself is not zero? Alternatively, what would lead to the opposite conclusion in this context; namely, instead choosing \"to reject the null hypothesis\"? Explain the answers to these questions concisely in your own words."
   ]
  },
  {
   "cell_type": "markdown",
   "id": "24e41114",
   "metadata": {},
   "source": [
    "To reject the null hypothesis, the confidence interval must not contain zero. This suggests that the recorded impact is statistically important and probably not random, backing up the idea that the medication is probably effective. So basically, if a confidence interval includes zero, it suggests that the actual effect could potentially be zero, indicating there is no significant statistical difference or effect. Even when the sample mean is not zero, the interval indicates that, on average, the drug might not have any impact. Therefore, we do not reject the null hypothesis as we are unable to definitively dismiss the null hypothesis stating no impact."
   ]
  },
  {
   "cell_type": "markdown",
   "id": "44cb4de1",
   "metadata": {},
   "source": [
    "Chatbot past session history: https://chatgpt.com/share/66ff668c-e554-8013-bdf3-15d072f89264"
   ]
  },
  {
   "cell_type": "markdown",
   "id": "13e3f47e",
   "metadata": {},
   "source": [
    "Question 8\n",
    "Complete the following assignment.\n",
    "Vaccine Data Analysis Assignment\n",
    "Overview\n",
    "The company AliTech has created a new vaccine that aims to improve the health of the people who take it. Your job is to use what you have learned in the course to give evidence for whether or not the vaccine is effective.\n",
    "Data AliTech has released the following data.\n",
    "csv\n",
    "PatientID,Age,Gender,InitialHealthScore,FinalHealthScore\n",
    "1,45,M,84,86\n",
    "2,34,F,78,86\n",
    "3,29,M,83,80\n",
    "4,52,F,81,86\n",
    "5,37,M,81,84\n",
    "6,41,F,80,86\n",
    "7,33,M,79,86\n",
    "8,48,F,85,82\n",
    "9,26,M,76,83\n",
    "10,39,F,83,84\n",
    "Deliverables While you can choose how to approach this project, the most obvious path would be to use bootstrapping, follow the analysis presented in the \"Pre-lecture\" HW video (above). Nonetheless, we are primarily interested in evaluating your report relative to the following deliverables.\n",
    "- A visual presentation giving some initial insight into the comparison of interest.\n",
    "- A quantitative analysis of the data and an explanation of the method and purpose of this method.\n",
    "- A conclusion regarding a null hypothesis of \"no effect\" after analyzing the data with your methodology.\n",
    "- The clarity of your documentation, code, and written report.\n",
    "Consider organizing your report within the following outline template.\n",
    "1. Problem Introduction\n",
    "- An explaination of the meaning of a Null Hypothesis of \"no effect\" in this context\n",
    "- Data Visualization (motivating and illustrating the comparison of interest)\n",
    "2. Quantitative Analysis\n",
    "- Methodology Code and Explanations\n",
    "- Supporting Visualizations\n",
    "3. Findings and Discussion\n",
    "- Conclusion regarding a Null Hypothesis of \"no effect\"\n",
    "- Further Considerations"
   ]
  },
  {
   "cell_type": "code",
   "execution_count": 5,
   "id": "1937e28f",
   "metadata": {},
   "outputs": [],
   "source": [
    "import pandas as pd\n",
    "\n",
    "# Simulate the provided dataset\n",
    "data = pd.DataFrame({\n",
    "    'PatientID': range(1, 11),\n",
    "    'Age': [45, 34, 29, 52, 37, 41, 33, 48, 26, 39],\n",
    "    'Gender': ['M', 'F', 'M', 'F', 'M', 'F', 'M', 'F', 'M', 'F'],\n",
    "    'InitialHealthScore': [84, 78, 83, 81, 81, 80, 79, 85, 76, 83],\n",
    "    'FinalHealthScore': [86, 86, 80, 86, 84, 86, 86, 82, 83, 84]\n",
    "})\n",
    "\n",
    "# Save this simulated dataset to a CSV (for loading in future code if needed)\n",
    "data.to_csv('vaccine_data.csv', index=False)\n"
   ]
  },
  {
   "cell_type": "markdown",
   "id": "770647ba",
   "metadata": {},
   "source": [
    "1. Problem Introduction\n",
    "- Null Hypothesis (H₀): The vaccine does not improve health, i.e., the difference between Initial Health Scores and Final Health Scores is zero on average = No effect\n",
    "- Alternative Hypothesis (H₁): The vaccine does improve health, meaning there is a positive average difference between initial and final health scores."
   ]
  },
  {
   "cell_type": "code",
   "execution_count": 8,
   "id": "a829540c",
   "metadata": {
    "scrolled": true
   },
   "outputs": [
    {
     "data": {
      "image/png": "[encoded data removed]",
      "text/plain": [
       "<Figure size 1000x500 with 1 Axes>"
      ]
     },
     "metadata": {},
     "output_type": "display_data"
    },
    {
     "data": {
      "image/png": "[encoded data removed]",
      "text/plain": [
       "<Figure size 600x600 with 1 Axes>"
      ]
     },
     "metadata": {},
     "output_type": "display_data"
    }
   ],
   "source": [
    "import matplotlib.pyplot as plt\n",
    "import seaborn as sns\n",
    "\n",
    "# Load the data (uncomment this if you're loading the data from a CSV file)\n",
    "# data = pd.read_csv('vaccine_data.csv')\n",
    "\n",
    "# Plot initial and final health scores using a boxplot\n",
    "plt.figure(figsize=(10, 5))\n",
    "sns.boxplot(data=[data['InitialHealthScore'], data['FinalHealthScore']])\n",
    "plt.xticks([0, 1], ['Initial Health Scores', 'Final Health Scores'])\n",
    "plt.ylabel('Health Score')\n",
    "plt.title('Comparison of Initial and Final Health Scores')\n",
    "plt.show()\n",
    "\n",
    "# Scatter plot of Initial vs Final Health Score\n",
    "plt.figure(figsize=(6, 6))\n",
    "plt.scatter(data['InitialHealthScore'], data['FinalHealthScore'], color='blue')\n",
    "plt.plot([70, 90], [70, 90], color='red', linestyle='--')  # Line for no change\n",
    "plt.xlabel('Initial Health Score')\n",
    "plt.ylabel('Final Health Score')\n",
    "plt.title('Initial vs Final Health Scores')\n",
    "plt.show()\n"
   ]
  },
  {
   "cell_type": "markdown",
   "id": "d4f6cf3b",
   "metadata": {},
   "source": [
    "- Quantitative Analysis (Bootstrapping)\n",
    "1. Apply bootstrapping to estimate the average difference between the Initial and Final Health Scores and construct a confidence interval to test our hypothesis.\n",
    "2. Determine the differences in Health Scores between each patient's Final and Initial scores.\n",
    "3. Bootstrap sampling involves creating numerous bootstrap samples of these disparities and calculating the average for each sample.\n",
    "4. Construct a 95% confidence interval for the mean difference.\n",
    "5. Indentify decision if the confidence interval includes zero, we fail to reject the null hypothesis. If it doesn’t, we reject it in favor of the alternative hypothesis."
   ]
  },
  {
   "cell_type": "code",
   "execution_count": 7,
   "id": "5d0a4436",
   "metadata": {
    "scrolled": true
   },
   "outputs": [
    {
     "name": "stdout",
     "output_type": "stream",
     "text": [
      "95% Confidence Interval for the Mean Difference: (0.90, 5.40)\n",
      "Mean Difference from Bootstrapping: 3.34\n"
     ]
    }
   ],
   "source": [
    "import numpy as np\n",
    "\n",
    "# Calculate the differences between Final and Initial Health Scores\n",
    "data['ScoreDifference'] = data['FinalHealthScore'] - data['InitialHealthScore']\n",
    "\n",
    "# Bootstrapping function\n",
    "def bootstrap(data, num_samples=1000, ci=95):\n",
    "    sample_means = []\n",
    "    for _ in range(num_samples):\n",
    "        # Resample data with replacement\n",
    "        sample = np.random.choice(data, size=len(data), replace=True)\n",
    "        # Compute the mean of the sample and append to the list\n",
    "        sample_means.append(np.mean(sample))\n",
    "    \n",
    "    # Calculate the confidence interval\n",
    "    lower_bound = np.percentile(sample_means, (100 - ci) / 2)\n",
    "    upper_bound = np.percentile(sample_means, 100 - (100 - ci) / 2)\n",
    "    \n",
    "    # Return the confidence interval and the mean difference\n",
    "    return lower_bound, upper_bound, np.mean(sample_means)\n",
    "\n",
    "# Apply bootstrapping to the ScoreDifference data\n",
    "lower, upper, mean_diff = bootstrap(data['ScoreDifference'].values)\n",
    "\n",
    "# Output the results\n",
    "print(f\"95% Confidence Interval for the Mean Difference: ({lower:.2f}, {upper:.2f})\")\n",
    "print(f\"Mean Difference from Bootstrapping: {mean_diff:.2f}\")\n"
   ]
  },
  {
   "cell_type": "markdown",
   "id": "0b9ca0bb",
   "metadata": {},
   "source": [
    "3. Findings and Results\n",
    "- The mean difference between final and initial health scores will tell us if the vaccine seems to improve health.\n",
    "- The confidence interval will show whether we can statistically reject the null hypothesis. If yes, you fail to reject the null hypothesis (no significant effect). If no, you reject the null hypothesis, suggesting the vaccine has an effect.\n",
    "4. Conclusion\n",
    "- According to the bootstrapping analysis, either reject or fail to reject the null hypothesis of no effect, determining the potential effectiveness of the vaccine."
   ]
  },
  {
   "cell_type": "markdown",
   "id": "1d6b6d36",
   "metadata": {},
   "source": [
    "Question 9\n",
    "Have you reviewed the course wiki-textbook and interacted with a ChatBot (or, if that wasn't sufficient, real people in the course piazza discussion board or TA office hours) to help you understand all the material in the tutorial and lecture that you didn't quite follow when you first saw it?"
   ]
  },
  {
   "cell_type": "markdown",
   "id": "e40e566f",
   "metadata": {},
   "source": [
    "Yes, I reviewed the course wiki-textbook and interacted with a chatbot."
   ]
  },
  {
   "cell_type": "markdown",
   "id": "f51cb93b",
   "metadata": {},
   "source": [
    "Chatbot past session history: https://chatgpt.com/share/66ff668c-e554-8013-bdf3-15d072f89264"
   ]
  }
 ],
 "metadata": {
  "kernelspec": {
   "display_name": "Python 3 (ipykernel)",
   "language": "python",
   "name": "python3"
  },
  "language_info": {
   "codemirror_mode": {
    "name": "ipython",
    "version": 3
   },
   "file_extension": ".py",
   "mimetype": "text/x-python",
   "name": "python",
   "nbconvert_exporter": "python",
   "pygments_lexer": "ipython3",
   "version": "3.11.6"
  }
 },
 "nbformat": 4,
 "nbformat_minor": 5
}
