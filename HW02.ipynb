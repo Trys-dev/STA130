{
 "cells": [
  {
   "cell_type": "markdown",
   "id": "a233d891",
   "metadata": {},
   "source": [
    "Question 1\n",
    "Begin (or restart) part \"3(a)\" of the TUT Demo and interact with a ChatBot to make sure you understand how each part the Monte Hall problem code above works"
   ]
  },
  {
   "cell_type": "code",
   "execution_count": 1,
   "id": "45eec999",
   "metadata": {},
   "outputs": [
    {
     "data": {
      "text/plain": [
       "0.6676"
      ]
     },
     "execution_count": 1,
     "metadata": {},
     "output_type": "execute_result"
    }
   ],
   "source": [
    "import numpy as np\n",
    "all_door_options = (1,2,3)  # tuple\n",
    "my_door_choice = 1  # 1,2,3\n",
    "i_won = 0\n",
    "reps = 100000\n",
    "for i in range(reps):\n",
    "    secret_winning_door = np.random.choice(all_door_options)\n",
    "    all_door_options_list = list(all_door_options)\n",
    "    # take the secret_winning_door, so we don't show it as a \"goat\" losing door\n",
    "    all_door_options_list.remove(secret_winning_door)\n",
    "    try:\n",
    "        # if my_door_choice was secret_winning_door then it's already removed\n",
    "        all_door_options_list.remove(my_door_choice)\n",
    "    except:\n",
    "        pass\n",
    "    # show a \"goat\" losing door and remove it\n",
    "    goat_door_reveal = np.random.choice(all_door_options_list)\n",
    "    all_door_options_list.remove(goat_door_reveal)\n",
    "\n",
    "    # put the secret_winning_door back in if it wasn't our choice\n",
    "    # we previously removed it, so it would be shown as a  \"goat\" losing door\n",
    "    if secret_winning_door != my_door_choice:\n",
    "        all_door_options_list.append(secret_winning_door)\n",
    "    # if secret_winning_door was our choice then all that's left in the list is a \"goat\" losing door\n",
    "    # if secret_winning_door wasn't our choice then it's all that will be left in the list\n",
    "\n",
    "    # swap strategy\n",
    "    my_door_choice = all_door_options_list[0]\n",
    "\n",
    "    if my_door_choice == secret_winning_door:\n",
    "        i_won += 1\n",
    "\n",
    "i_won/reps"
   ]
  },
  {
   "cell_type": "markdown",
   "id": "f3a19dcb",
   "metadata": {},
   "source": [
    "According to Chatbot, this code is simulating the famous Monty Hall problem, which is a probability puzzle based on a game show scenario. The idea is that you're trying to win a prize that's hidden behind one of three doors, while the other two doors hide goats. After you pick one door, the host (Monty) will open another door, showing a goat, and then you have the option to either stick with your original choice or switch to the remaining unopened door. "
   ]
  },
  {
   "cell_type": "code",
   "execution_count": 1,
   "id": "8850bfad",
   "metadata": {},
   "outputs": [],
   "source": [
    "all_door_options = (1, 2, 3)  # tuple\n",
    "my_door_choice = 1  # 1, 2, 3\n",
    "i_won = 0\n",
    "reps = 100000"
   ]
  },
  {
   "cell_type": "markdown",
   "id": "8a6e890e",
   "metadata": {},
   "source": [
    "The initial setup here is that [all_door_options] is a tuple containing the three doors (1, 2, and 3). [my_door_choice] is initialized to 1, meaning you start by always choosing door 1 in this simulation. [i_won will] count the number of times you win the game by switching doors, and reps is the number of times the simulation will run (100,000 times)."
   ]
  },
  {
   "cell_type": "code",
   "execution_count": null,
   "id": "288461fc",
   "metadata": {},
   "outputs": [],
   "source": [
    "for i in range(reps):\n",
    "    secret_winning_door = np.random.choice(all_door_options)\n",
    "    all_door_options_list = list(all_door_options)"
   ]
  },
  {
   "cell_type": "markdown",
   "id": "af811d85",
   "metadata": {},
   "source": [
    "The main loop here runs the simulation reps (100,000) times. In each iteration, [secret_winning_door] is randomly selected as one of the three doors (1, 2, or 3), which is where the prize is hidden. Then, we convert the tuple [all_door_options] to a list so that we can remove doors as the game progresses."
   ]
  },
  {
   "cell_type": "code",
   "execution_count": null,
   "id": "66c82253",
   "metadata": {},
   "outputs": [],
   "source": [
    "all_door_options_list.remove(secret_winning_door)\n",
    "try:\n",
    "    all_door_options_list.remove(my_door_choice)\n",
    "except:\n",
    "    pass"
   ]
  },
  {
   "cell_type": "markdown",
   "id": "a08de927",
   "metadata": {},
   "source": [
    "First, we remove the [secret_winning_door] from the list because Monty never reveals the door with the prize. Then, the code tries to remove the player's original choice (my_door_choice). If the player's choice was the same as the winning door, this removal raises an error, which is ignored with the [try/except] block."
   ]
  },
  {
   "cell_type": "code",
   "execution_count": null,
   "id": "1b4c0d62",
   "metadata": {},
   "outputs": [],
   "source": [
    "goat_door_reveal = np.random.choice(all_door_options_list)\n",
    "all_door_options_list.remove(goat_door_reveal)"
   ]
  },
  {
   "cell_type": "markdown",
   "id": "e7b1888a",
   "metadata": {},
   "source": [
    "Next, Monty randomly reveals a door with a goat, which is picked from the remaining options in [all_door_options_list]. This door is then removed, leaving only one other door in the list."
   ]
  },
  {
   "cell_type": "code",
   "execution_count": null,
   "id": "7ab6aec7",
   "metadata": {},
   "outputs": [],
   "source": [
    "if secret_winning_door != my_door_choice:\n",
    "    all_door_options_list.append(secret_winning_door)\n",
    "my_door_choice = all_door_options_list[0]"
   ]
  },
  {
   "cell_type": "markdown",
   "id": "dbf0ac60",
   "metadata": {},
   "source": [
    "In this case, if the player's original choice (my_door_choice) is not the winning door, we add the winning door back to the list. The player then switches to the remaining unopened door, which is the first element in the modified [all_door_options]_list."
   ]
  },
  {
   "cell_type": "code",
   "execution_count": null,
   "id": "6418d4a4",
   "metadata": {},
   "outputs": [],
   "source": [
    "if my_door_choice == secret_winning_door:\n",
    "    i_won += 1"
   ]
  },
  {
   "cell_type": "markdown",
   "id": "631546fa",
   "metadata": {},
   "source": [
    "Now we check if the player's new choice (after switching) is the winning door. If it is, the [i_won counter] is incremented."
   ]
  },
  {
   "cell_type": "code",
   "execution_count": null,
   "id": "35ba6450",
   "metadata": {},
   "outputs": [],
   "source": [
    "i_won / reps"
   ]
  },
  {
   "cell_type": "markdown",
   "id": "8e014006",
   "metadata": {},
   "source": [
    "Finally, after all the repetitions of the simulation, we calculate the probability of winning by switching doors by dividing the number of wins (i_won) by the total number of simulations (reps). This gives us an estimate of the likelihood of winning using the switch strategy, which should be close to 2/3.\n",
    "\n",
    "This code simulates the Monty Hall problem under the assumption that the player always swaps their initial door choice. After revealing a goat door, the player switches to the remaining unopened door. The expected probability of winning with this strategy is around 2/3, which this simulation approximates by running 100,000 trials."
   ]
  },
  {
   "cell_type": "markdown",
   "id": "ad8939af",
   "metadata": {},
   "source": [
    "Question 2\n",
    "Extend your ChatBot sessions to now address part \"3(b)\" of the TUT Demo and interact with your ChatBot to see if it can suggest a simpler, more streamlined way to code up this for loop simulation so the process is more clear and easier to understand; then, describe any preferences you have in terms of readibility or explainability between the original code and the code improvements suggested by the ChatBot"
   ]
  },
  {
   "cell_type": "markdown",
   "id": "0af1067f",
   "metadata": {},
   "source": [
    "The simpler, more streamlined version of the Monty Hall simulation provided by the Chatbot"
   ]
  },
  {
   "cell_type": "code",
   "execution_count": 3,
   "id": "df3bf9de",
   "metadata": {},
   "outputs": [
    {
     "name": "stdout",
     "output_type": "stream",
     "text": [
      "0.66835\n"
     ]
    }
   ],
   "source": [
    "import numpy as np\n",
    "\n",
    "all_doors = [1, 2, 3]\n",
    "wins = 0\n",
    "reps = 100000\n",
    "\n",
    "for _ in range(reps):\n",
    "    winning_door = np.random.choice(all_doors)\n",
    "    my_choice = np.random.choice(all_doors)  # Simulate random initial choice\n",
    "    \n",
    "    # Monty opens a goat door that isn't the winning door or the player's choice\n",
    "    remaining_doors = [door for door in all_doors if door != winning_door and door != my_choice]\n",
    "    monty_opens = np.random.choice(remaining_doors)\n",
    "    \n",
    "    # Simulate player switching to the other remaining door\n",
    "    switch_choice = [door for door in all_doors if door != my_choice and door != monty_opens][0]\n",
    "    \n",
    "    # Check if the player won by switching\n",
    "    if switch_choice == winning_door:\n",
    "        wins += 1\n",
    "\n",
    "win_probability = wins / reps\n",
    "print(win_probability)"
   ]
  },
  {
   "cell_type": "markdown",
   "id": "4badf5be",
   "metadata": {},
   "source": [
    "In terms of readability and explainability, I personally prefer the streamlined version for its clarity and simplicity, especially for me that is much more familiar with Python. It’s easier to reason about and avoids unnecessary complexity. Also, the output value is much more precise that the answer round up to point five digits."
   ]
  },
  {
   "cell_type": "markdown",
   "id": "0e652aea",
   "metadata": {},
   "source": [
    "Question 3\n",
    "Submit your preferred version of the Monty Hall problem that is verified to be running and working with a final printed output of the code; then, add code comments explaining the purpose of each line of the code"
   ]
  },
  {
   "cell_type": "markdown",
   "id": "92834f3f",
   "metadata": {},
   "source": [
    "The final, streamlined version of your Monty Hall simulation code provided by the Chatbot"
   ]
  },
  {
   "cell_type": "code",
   "execution_count": 5,
   "id": "ce31ab5f",
   "metadata": {},
   "outputs": [
    {
     "name": "stdout",
     "output_type": "stream",
     "text": [
      "Winning probability by switching: 0.6683\n"
     ]
    }
   ],
   "source": [
    "import numpy as np\n",
    "\n",
    "all_doors = [1, 2, 3]\n",
    "wins = 0\n",
    "reps = 100000\n",
    "\n",
    "for _ in range(reps):\n",
    "    # Randomly select the winning door and the player's initial choice\n",
    "    winning_door = np.random.choice(all_doors)\n",
    "    my_choice = np.random.choice(all_doors)\n",
    "    \n",
    "    # Monty opens a door with a goat (neither the winning door nor player's choice)\n",
    "    monty_opens = np.random.choice([door for door in all_doors if door != winning_door and door != my_choice])\n",
    "    \n",
    "    # The player switches to the remaining unopened door\n",
    "    switch_choice = [door for door in all_doors if door != my_choice and door != monty_opens][0]\n",
    "    \n",
    "    # Check if the player wins by switching\n",
    "    if switch_choice == winning_door:\n",
    "        wins += 1\n",
    "\n",
    "# Calculate and print the probability of winning by switching\n",
    "win_probability = wins / reps\n",
    "print(f\"Winning probability by switching: {win_probability:.4f}\")\n"
   ]
  },
  {
   "cell_type": "markdown",
   "id": "32825e60",
   "metadata": {},
   "source": [
    "Explanation of the Code:\n",
    "Imports: The numpy library is used to randomly choose doors.\n",
    "\n",
    "Variables:\n",
    "\n",
    "all_doors: List of three doors (1, 2, and 3).\n",
    "wins: Counts how many times the player wins by switching doors.\n",
    "reps: The number of simulations to run (100,000).\n",
    "Main Simulation Loop:\n",
    "\n",
    "The loop runs 100,000 times, simulating the Monty Hall scenario each time.\n",
    "winning_door: Randomly selects the door that hides the prize.\n",
    "my_choice: Simulates the player's initial random door choice.\n",
    "monty_opens: Monty opens a door with a goat, excluding the player's choice and the winning door.\n",
    "switch_choice: The player switches to the last unopened door.\n",
    "If the switched door is the winning door, wins is incremented.\n",
    "Result:\n",
    "\n",
    "After all simulations, the probability of winning by switching is calculated (wins / reps) and printed in a readable format with four decimal places."
   ]
  },
  {
   "cell_type": "markdown",
   "id": "89f13bcc",
   "metadata": {},
   "source": [
    "This final version runs and works efficiently, demonstrating that switching doors gives you approximately a 2/3 chance of winning in the Monty Hall problem, as expected."
   ]
  },
  {
   "cell_type": "markdown",
   "id": "f4390758",
   "metadata": {},
   "source": [
    "Question 4\n",
    "Watch the embedded video tutorial on Markov chains in the next Jupyter cell below to understand their application and relevance for ChatBots; then, after watching the video, start a new ChatBot session by prompting that you have code that creates a \"Markovian ChatBot\"; show it the first version of the \"Markovian ChatBot code\" below; and interact with the ChatBot session to make sure you understand how the original first version of the \"Markovian ChatBot code\" works"
   ]
  },
  {
   "cell_type": "markdown",
   "id": "76c4fb60",
   "metadata": {},
   "source": [
    "This is the Code Example for Markov Chain Text Generation provided by the Chatbot"
   ]
  },
  {
   "cell_type": "code",
   "execution_count": null,
   "id": "d9cc46b4",
   "metadata": {},
   "outputs": [],
   "source": [
    "import random\n",
    "\n",
    "# Sample corpus for the chatbot\n",
    "corpus = \"hello how are you hello how are we today hello are you ready for the test\"\n",
    "\n",
    "# Tokenize the corpus into words\n",
    "words = corpus.split()\n",
    "\n",
    "# Create a dictionary for the Markov Chain\n",
    "markov_chain = {}\n",
    "\n",
    "# Build the Markov chain: Each word is linked to the possible next words\n",
    "for i in range(len(words) - 1):  # Loop through all words except the last one\n",
    "    word = words[i]\n",
    "    next_word = words[i + 1]\n",
    "    \n",
    "    if word not in markov_chain:\n",
    "        markov_chain[word] = []\n",
    "    markov_chain[word].append(next_word)\n",
    "\n",
    "# Function to generate a response based on the Markov Chain\n",
    "def generate_response(chain, count=10):\n",
    "    # Select a random starting word from the keys of the Markov chain\n",
    "    word = random.choice(list(chain.keys()))\n",
    "    response = [word]\n",
    "    \n",
    "    # Loop to generate 'count' number of words\n",
    "    for _ in range(count - 1):\n",
    "        if word in chain:  # Check if the word has any next words\n",
    "            next_word = random.choice(chain[word])\n",
    "            response.append(next_word)\n",
    "            word = next_word\n",
    "        else:\n",
    "            break  # End the generation if no next word is found\n",
    "    \n",
    "    return ' '.join(response)\n",
    "\n",
    "# Simulate a chatbot session\n",
    "print(\"Markovian ChatBot: \" + generate_response(markov_chain))"
   ]
  },
  {
   "cell_type": "markdown",
   "id": "070f4b52",
   "metadata": {},
   "source": [
    "To response..."
   ]
  },
  {
   "cell_type": "code",
   "execution_count": null,
   "id": "e47b9553",
   "metadata": {},
   "outputs": [
    {
     "name": "stdout",
     "output_type": "stream",
     "text": [
      "Markovian ChatBot: Hi! You can start chatting with me.\n",
      "You: How are you?\n",
      "Markovian ChatBot: how are you ready for the test\n",
      "You: Yes, I am\n",
      "Markovian ChatBot: are we today hello how are you ready for the\n",
      "You: Ready for...?\n",
      "Markovian ChatBot: ready for the test\n",
      "You: Yes, I am\n",
      "Markovian ChatBot: ready for the test\n",
      "You: I am ready for the test\n",
      "Markovian ChatBot: ready for the test\n"
     ]
    }
   ],
   "source": [
    "import random\n",
    "\n",
    "# Sample corpus for the chatbot\n",
    "corpus = \"hello how are you hello how are we today hello are you ready for the test\"\n",
    "\n",
    "# Tokenize the corpus into words\n",
    "words = corpus.split()\n",
    "\n",
    "# Create a dictionary for the Markov Chain\n",
    "markov_chain = {}\n",
    "\n",
    "# Build the Markov chain: Each word is linked to the possible next words\n",
    "for i in range(len(words) - 1):\n",
    "    word = words[i]\n",
    "    next_word = words[i + 1]\n",
    "    \n",
    "    if word not in markov_chain:\n",
    "        markov_chain[word] = []\n",
    "    markov_chain[word].append(next_word)\n",
    "\n",
    "# Function to generate a response based on the Markov Chain\n",
    "def generate_response(chain, seed_word=None, count=10):\n",
    "    if seed_word is None or seed_word not in chain:\n",
    "        # If no valid seed word is provided, choose a random word\n",
    "        word = random.choice(list(chain.keys()))\n",
    "    else:\n",
    "        # If a valid seed word is provided, start the response with that\n",
    "        word = seed_word\n",
    "    \n",
    "    response = [word]\n",
    "    \n",
    "    # Loop to generate 'count' number of words\n",
    "    for _ in range(count - 1):\n",
    "        if word in chain:\n",
    "            next_word = random.choice(chain[word])\n",
    "            response.append(next_word)\n",
    "            word = next_word\n",
    "        else:\n",
    "            break\n",
    "    \n",
    "    return ' '.join(response)\n",
    "\n",
    "# Main Chatbot Interaction Loop\n",
    "def chatbot():\n",
    "    print(\"Markovian ChatBot: Hi! You can start chatting with me.\")\n",
    "    while True:\n",
    "        user_input = input(\"You: \").lower()\n",
    "        \n",
    "        # End the chat if the user says \"bye\"\n",
    "        if user_input == \"bye\":\n",
    "            print(\"Markovian ChatBot: Goodbye!\")\n",
    "            break\n",
    "        \n",
    "        # Use the user's input as the seed for the chatbot response if possible\n",
    "        seed_word = None\n",
    "        for word in user_input.split():\n",
    "            if word in markov_chain:\n",
    "                seed_word = word\n",
    "                break\n",
    "        \n",
    "        # Generate the chatbot's response\n",
    "        response = generate_response(markov_chain, seed_word)\n",
    "        print(\"Markovian ChatBot: \" + response)\n",
    "\n",
    "# Start the chatbot\n",
    "chatbot()\n"
   ]
  },
  {
   "cell_type": "markdown",
   "id": "d96ec6b0",
   "metadata": {},
   "source": [
    "Chatbot history session link:https://chatgpt.com/c/66f13ffa-bb9c-8013-a8a9-75f8e3132501"
   ]
  },
  {
   "cell_type": "markdown",
   "id": "ba2c4108",
   "metadata": {},
   "source": [
    "Question 5\n",
    "Recreate (or resume) the previous ChatBot session from question \"4\" above, and now prompt the ChatBot session that you have a couple extensions of the code to show it, and then show it each of the extentions of the \"Markovian ChatBot code\" below in turn"
   ]
  },
  {
   "cell_type": "markdown",
   "id": "1db73e8f",
   "metadata": {},
   "source": [
    "Part 1\n",
    "Without just supplying your ChatBot session with the answers, see if the ChatBot can figure out what the extensions in the code do; namely, making character specific Markov chains, and using bigrams (rather than just the previous word alone) dependency... prompt your ChatBot session with some hints if it's not seeming to \"get it\""
   ]
  },
  {
   "cell_type": "markdown",
   "id": "690cdf07",
   "metadata": {},
   "source": [
    "Using bigrams (two-word contexts) makes the chatbot smarter by giving it more context to choose the next word. Instead of looking at just one word, it considers the last two, allowing it to generate more coherent and natural-sounding sentences. This helps avoid awkward word combinations and makes the chatbot’s responses flow more like human conversation. The added context improves sentence structure and makes its predictions more accurate."
   ]
  },
  {
   "cell_type": "markdown",
   "id": "7e88832c",
   "metadata": {},
   "source": [
    "Part 2\n",
    "Interact with your ChatBot session to have it explain details of the code wherever you need help understanding what the code is doing and how it works"
   ]
  },
  {
   "cell_type": "markdown",
   "id": "088908ad",
   "metadata": {},
   "source": [
    "In particular, the [word_used2] creates a bigram, or a pair of two consecutive words, which the chatbot uses to track what word commonly follows that bigram and counts how often each next word appears. For example, from the sentence \"I am learning,\" the bigrams would be (\"I\", \"am\") and (\"am\", \"learning\"), and the chatbot would note that \"learning\" commonly follows (\"I\", \"am\"). By counting how frequently each next word occurs after a bigram, the chatbot builds a statistical model of word sequences. When generating new text, it uses these bigrams to predict the next word probabilistically, resulting in more natural, context-aware responses that better mimic human speech."
   ]
  },
  {
   "cell_type": "markdown",
   "id": "d71f3b17",
   "metadata": {},
   "source": [
    "Chatbot link: https://chatgpt.com/c/66f13ffa-bb9c-8013-a8a9-75f8e3132501"
   ]
  },
  {
   "cell_type": "markdown",
   "id": "9d4a08c5",
   "metadata": {},
   "source": [
    "Part 3\n",
    "Start yet another new ChatBot session and first show the ChatBot the original \"Markovian ChatBot code\" below, and then tell ChatBot that you have an extension but this time just directly provide it the more complicated final extension without ever providing the intermediate extension code to the ChatBot session and see if it's still able to understand everything extension does; namely, making character specific Markov chains, and using bigrams (rather than just the previous word alone) dependency... prompt the ChatBot with some hints if it's not seeming to understand what you're getting at..."
   ]
  },
  {
   "cell_type": "markdown",
   "id": "3756b366",
   "metadata": {},
   "source": [
    "This the Markovian chatbot code provided by the chatbot adding the extension:"
   ]
  },
  {
   "cell_type": "code",
   "execution_count": null,
   "id": "1edf83f0",
   "metadata": {},
   "outputs": [],
   "source": [
    "# Markovian Chatbot\n",
    "\n",
    "word_used = {}  # Dictionary to track how many times each word is used\n",
    "next_word = {}  # Dictionary to track the next word and its frequency\n",
    "\n",
    "# Loop through all words except the last one\n",
    "for i, word in enumerate(words[:-1]):\n",
    "    # Increment or initialize word usage count\n",
    "    if word in word_used:\n",
    "        word_used[word] += 1\n",
    "    else:\n",
    "        word_used[word] = 1\n",
    "        next_word[word] = {}  # Initialize next_word dictionary for new word\n",
    "\n",
    "    # Increment or initialize the next word occurrence\n",
    "    next_word_for_current_word = words[i + 1]\n",
    "    if next_word_for_current_word in next_word[word]:\n",
    "        next_word[word][next_word_for_current_word] += 1\n",
    "    else:\n",
    "        next_word[word][next_word_for_current_word] = 1\n"
   ]
  },
  {
   "cell_type": "markdown",
   "id": "e14ec616",
   "metadata": {},
   "source": [
    "The \"extension\" in the second part of your code attempts to improve the original Markov chain chatbot by adding extra logic for handling word occurrences and transitions.\n",
    "\n",
    "Handling word_used:\n",
    "\n",
    "It checks whether the current word exists in [word_used].\n",
    "If the word exists, it increments its count. If not, it initializes it with a count of 1 and sets up the [next_word] dictionary for that word.\n",
    "Handling next_word:\n",
    "\n",
    "It looks at the next word in the sequence (words[i+1]) and checks whether it already exists in the next_word dictionary for the current word.\n",
    "If the next word exists, it increments the count, otherwise it initializes it to 1.\n",
    "\n",
    "What the Extension Intended to Do:\n",
    "It appears the goal was to ensure that every word and its subsequent word are properly tracked with frequency counts. However, the logic is repeated unnecessarily.\n",
    "The extension does not provide new functionality beyond what's already in the initial code; it just rechecks and reinitializes values, which makes it redundant.\n",
    "In short, the extension's purpose was to handle counting word occurrences and transitions but ends up duplicating logic that the initial code already handles well. By removing the redundancy (as shown in the clean version), the code still achieves the intended goal: counting word frequencies and transitions without unnecessary repetitions."
   ]
  },
  {
   "cell_type": "markdown",
   "id": "e1c82a47",
   "metadata": {},
   "source": [
    "Chatbot link:https://chatgpt.com/c/66f204fe-2440-8013-a0ae-6c453f61c391"
   ]
  },
  {
   "cell_type": "markdown",
   "id": "e35c032a",
   "metadata": {},
   "source": [
    "Question 6\n",
    "Report on your experience interacting with ChatBots to understand the Monte Hall problem and \"Markovian ChatBot\" code"
   ]
  },
  {
   "cell_type": "markdown",
   "id": "c85ed757",
   "metadata": {},
   "source": [
    "Part 1\n",
    "Discuss how quickly the ChatBot was able to be helpful for each of the above questions, and if so, how?"
   ]
  },
  {
   "cell_type": "markdown",
   "id": "ca591482",
   "metadata": {},
   "source": [
    "The bot was able to quickly provide an explanation that helped clarify both the Monty Hall problem and the \"Markovian ChatBot\" code. Its responses were effective, making these complicated topics easier to understand. Although there is a chance that the chatbot servers might occasionally not work, this is a rare occurrence and does not significantly impact its overall reliability."
   ]
  },
  {
   "cell_type": "markdown",
   "id": "0447c781",
   "metadata": {},
   "source": [
    "Part 2\n",
    "Discuss whether or not interacting with ChatBot to try to figure things out was frustrating or unhelpful, and if so, how?"
   ]
  },
  {
   "cell_type": "markdown",
   "id": "4fb19866",
   "metadata": {},
   "source": [
    "From my own perspective, interacting with a chatbot isn't frustrating or unhelpful because it provides answers very quickly. If the response isn't exactly what you're looking for, you can simply rephrase the question. The only time it might become frustrating is when you hit the question limit and have to start a new session, which it feels like a waste of time."
   ]
  },
  {
   "cell_type": "markdown",
   "id": "ffd8d53d",
   "metadata": {},
   "source": [
    "Part 3\n",
    "Based on your experiences to date (e.g., including using ChatBots to troubleshoot coding errors in the previous homework), provide an overall assessment evaluating the usefulness of ChatBots as tools to help you understand code"
   ]
  },
  {
   "cell_type": "markdown",
   "id": "76e7c35a",
   "metadata": {},
   "source": [
    "Specifically, I would say that the chatbot proved its useful in many ways in varieties. It excels at explaining code and performs even better when writing it.  It has been incredibly helpful in breaking down code, allowing me to understand the function of each part in a very short amount of time, based on personal experience."
   ]
  },
  {
   "cell_type": "markdown",
   "id": "2a4c320a",
   "metadata": {},
   "source": [
    "Question 7\n",
    "Reflect on your experience interacting with ChatBot and describe how your perception of AI-driven assistance tools in the context of learning coding, statistics, and data science has been evolving (or not) since joining the course"
   ]
  },
  {
   "cell_type": "markdown",
   "id": "73587c46",
   "metadata": {},
   "source": [
    "Since starting the course, my views on AI-based support tools for learning coding, statistics, and data science left an obscure impression where students apply it to cheats its way out of reality. However, I learned that artificial intelligence has the ability to assist individuals both students and engineers in programming and data analysis. To be realistic, it might have the ability to outperform and surpass us humans. It is both an excellent tool for those new to coding or the industry to save time, contributing to the context of learning coding, statistcs, and data science. The only question left is it depends on the hands that who use them."
   ]
  },
  {
   "cell_type": "markdown",
   "id": "c7f74f5f",
   "metadata": {},
   "source": [
    "Question 8\n",
    "ChatBots consume text data available on the web or platforms, and thus represents a new way to \"search consensensus\" that condenses and summarizes mainstream human thought"
   ]
  },
  {
   "cell_type": "markdown",
   "id": "1a6f62df",
   "metadata": {},
   "source": [
    "Part 1\n",
    "Start a new ChatBot session and discuss the relevance of learning and adaptability, communication, coding, and statistics and data analysis as skills in the modern world, especially with respect to career opportunities (particularly in the context of the data science industry)"
   ]
  },
  {
   "cell_type": "markdown",
   "id": "666bd9b8",
   "metadata": {},
   "source": [
    "Developing a combination of these abilities not just increases job prospects in sought-after industries but also enhances one's flexibility and competitiveness in a quickly evolving employment landscape. Given that all businesses revolve around finance and numbers, these skills are especially beneficial for positions in technology, finance, economics, data science, and management, providing durability and adaptability in advancing one's career. In particular the future, coding will be easily accessible and used by all."
   ]
  },
  {
   "cell_type": "markdown",
   "id": "348a7403",
   "metadata": {},
   "source": [
    "Part 2\n",
    "See if ChatBot thinks you could be a statistician or data scientist without coding or doing data analysis, and then transition your ChatBot conversation into a career exploration discussion, using the ChatBot to identify the skills that might be the most valuable for a career that you're interested"
   ]
  },
  {
   "cell_type": "markdown",
   "id": "a1c96f01",
   "metadata": {},
   "source": [
    "This is the valuable insights and skills for a career provided by the chatbot\n",
    "\n",
    "Leadership: Ability to inspire and manage teams effectively.\n",
    "\n",
    "Strategic Planning: Skills in setting long-term goals and developing actionable plans.\n",
    "\n",
    "Financial Acumen: Understanding budgeting, financial forecasting, and cost management.\n",
    "\n",
    "Supply Chain Management: Knowledge of production processes, logistics, and inventory control.\n",
    "\n",
    "Marketing and Branding: Expertise in market analysis, brand positioning, and consumer trends.\n",
    "\n",
    "Innovation: Ability to drive product development and incorporate new technologies.\n",
    "\n",
    "Communication: Strong verbal and written skills for internal and external stakeholder engagement.\n",
    "\n",
    "Problem Solving: Capacity to analyze challenges and implement effective solutions."
   ]
  },
  {
   "cell_type": "markdown",
   "id": "89b896a2",
   "metadata": {},
   "source": [
    "Part 3\n",
    "Ask for a summary of this ChatBot session and paste it into your homework notebook (including link(s) to chat log histories if you're using ChatBot)"
   ]
  },
  {
   "cell_type": "markdown",
   "id": "13ad9208",
   "metadata": {},
   "source": [
    "In a career as the executive director of a shoe manufacturing company, a blend of leadership, strategic planning, and financial acumen is crucial. You must excel in supply chain management and understand market dynamics to position your brand effectively. Innovation drives product development, while strong communication and problem-solving skills enable you to navigate challenges and engage with stakeholders effectively."
   ]
  },
  {
   "cell_type": "markdown",
   "id": "8f819112",
   "metadata": {},
   "source": [
    "Chatbot seesion history link: https://chatgpt.com/c/66f13ffa-bb9c-8013-a8a9-75f8e3132501"
   ]
  },
  {
   "cell_type": "markdown",
   "id": "4a16a77d",
   "metadata": {},
   "source": [
    "Part 4 \n",
    "Paraphrase the assessments and conclusions of your conversation in the form of a reflection on your current thoughts regarding your potential future career(s) and how you can go about building the skills you need to pursue it"
   ]
  },
  {
   "cell_type": "markdown",
   "id": "62563c4e",
   "metadata": {},
   "source": [
    "Looking ahead to a possible career as a top executive at a shoe manufacturing company, I understand the significance of honing essential skills like leadership, strategic planning, and financial expertise. I intend to acquire relevant coursework, internships for practical experience, and industry mentorship to develop these skills. This assertive strategy will enable me to acquire the skills needed to succeed in my upcoming profession."
   ]
  },
  {
   "cell_type": "markdown",
   "id": "ffa6c8c7",
   "metadata": {},
   "source": [
    "Part 5\n",
    "Give your thoughts regarding the helpfulness or limitations of your conversation with a ChatBot, and describe the next steps you would take to pursue this conversation further if you felt the information the ChatBot provides was somewhat high level and general, and perhaps lacked the depth and detailed knowledge of a dedicated subject matter expert who had really take the time to understand the ins and outs of the industry and career path in question."
   ]
  },
  {
   "cell_type": "markdown",
   "id": "fadee18f",
   "metadata": {},
   "source": [
    "I believed that having a conversation with a chatbot can be very beneficial, particularly for receiving prompt answers and explanations about different subjects. However, it is important to interact with professionals to understand who possess firsthand knowledge of the career you wish to pursue in the field. Although chatbots can offer helpful insights and support, they do not possess the detailed understanding and hands-on experience that real-life experience provides, not to my knowledge."
   ]
  },
  {
   "cell_type": "markdown",
   "id": "8c768e53",
   "metadata": {},
   "source": [
    "Question 9\n",
    "Have you reviewed the course wiki-textbook and interacted with a ChatBot (or, if that wasn't sufficient, real people in the course piazza discussion board or TA office hours) to help you understand all the material in the tutorial and lecture that you didn't quite follow when you first saw it?"
   ]
  },
  {
   "cell_type": "markdown",
   "id": "cecc1d59",
   "metadata": {},
   "source": [
    "Yes, I have reviewed the course wiki-textbook and I have interacted with a Chatbot"
   ]
  }
 ],
 "metadata": {
  "kernelspec": {
   "display_name": "Python 3 (ipykernel)",
   "language": "python",
   "name": "python3"
  },
  "language_info": {
   "codemirror_mode": {
    "name": "ipython",
    "version": 3
   },
   "file_extension": ".py",
   "mimetype": "text/x-python",
   "name": "python",
   "nbconvert_exporter": "python",
   "pygments_lexer": "ipython3",
   "version": "3.11.6"
  }
 },
 "nbformat": 4,
 "nbformat_minor": 5
}
